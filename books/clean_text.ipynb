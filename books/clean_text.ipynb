{
 "metadata": {
  "language_info": {
   "codemirror_mode": {
    "name": "ipython",
    "version": 3
   },
   "file_extension": ".py",
   "mimetype": "text/x-python",
   "name": "python",
   "nbconvert_exporter": "python",
   "pygments_lexer": "ipython3",
   "version": "3.9.5"
  },
  "orig_nbformat": 2,
  "kernelspec": {
   "name": "python395jvsc74a57bd053317f590f90f94e04f96edca993a27d2d70b9be249a1b1c7a56431b256ae11a",
   "display_name": "Python 3.9.5 64-bit (windows store)"
  },
  "metadata": {
   "interpreter": {
    "hash": "53317f590f90f94e04f96edca993a27d2d70b9be249a1b1c7a56431b256ae11a"
   }
  }
 },
 "nbformat": 4,
 "nbformat_minor": 2,
 "cells": [
  {
   "cell_type": "code",
   "execution_count": 75,
   "metadata": {},
   "outputs": [],
   "source": [
    "import os\n",
    "import re\n",
    "from os import path\n",
    "import codecs"
   ]
  },
  {
   "cell_type": "code",
   "execution_count": 76,
   "metadata": {},
   "outputs": [],
   "source": [
    "def clean_text(string):\n",
    "    pattern = '(page|PAGE|Page)(\\s+\\|\\s+)([0-9]+)(.*)$'\n",
    "    output_cleaned = re.sub('\\s$', '', string, flags=re.MULTILINE)\n",
    "    p=re.compile(pattern,re.MULTILINE)\n",
    "    output_cleaned = p.sub(\" \",output_cleaned)\n",
    "    return output_cleaned"
   ]
  },
  {
   "cell_type": "code",
   "execution_count": 77,
   "metadata": {},
   "outputs": [],
   "source": [
    "books = [r'01 - The Fellowship Of The Ring.txt', r'02 - The Two Towers.txt', r'03 - The Return Of The King.txt']\n",
    "blocksize = 1048576\n",
    "with codecs.open('combined_text.txt', 'w', encoding =\"UTF-8\") as outfile:\n",
    "        for fname in books:\n",
    "            with open(fname, 'r', encoding=\"mbcs\") as infile:\n",
    "                contents = infile.read(blocksize)\n",
    "                if not contents:\n",
    "                    break\n",
    "                outfile.write(contents)\n"
   ]
  },
  {
   "cell_type": "code",
   "execution_count": 85,
   "metadata": {
    "tags": [
     "outputPrepend"
    ]
   },
   "outputs": [
    {
     "output_type": "stream",
     "name": "stdout",
     "text": [
      "rees had been destroyed, and he put a grain of the precious dust in the soil at the root of each. He went up and down the Shire in this labour; but if he paid special attention to Hobbiton and Bywater no one blamed him. And at the end he found that he still had a little of the dust left; so he went to the Three-Farthing Stone, which is as near the centre of the Shire as no matter, and cast it in the air with his blessing. The little silver nut he planted in the Party Field where the tree had once been; and he wondered what would come of it. All through the winter he remained as patient as he could, and tried to restrain himself from going round constantly to see if anything was happening.\n     Spring surpassed his wildest hopes. His trees began to sprout and grow, as if time was in a hurry and wished to make one year do for twenty. In the Party Field a beautiful young sapling leaped up: it had silver bark and long leaves and burst into golden flowers in April. It was indeed a _mallorn_, and it was the wonder of the neighbourhood. In after years, as it grew in grace and beauty, it was known far and wide and people would come long journeys to see it: the only _mallorn_ west of the Mountains and east of the Sea, and one of the finest in the world.\n     Altogether 1420 in the Shire was a marvellous year. Not only was there wonderful sunshine and delicious rain, in due times and perfect measure, but there seemed something more: an air of richness and growth, and a gleam of a beauty beyond that of mortal summers that flicker and pass upon this Middle-earth. All the children born or begotten in that year, and there were many, were fair to see and strong, and most of them had a rich golden hair that had before been rare among hobbits. The fruit was so plentiful that young hobbits very nearly bathed in strawberries and cream; and later they sat on the lawns under the plum-trees and ate, until they had made piles of stones like small pyramids or the heaped skulls of a conqueror, and then they moved on. And no one was ill, and everyone was pleased. except those who had to mow the grass.\n     In the Southfarthing the vines were laden, and the yield of 'leaf' was astonishing; and everywhere there was so much corn that at Harvest every barn was stuffed. 'The Northfarthing barley was so fine that the beer of 1420 malt was long remembered and became a byword. Indeed a generation later one might hear an old gaffer in an inn, after a good pint of well-earned ale, put down his mug with a sigh: 'Ah! that was proper fourteen-twenty, that was!'\n     Sam stayed at first at the Cottons' with Frodo; but when the New Row was ready he went with the Gaffer. In addition to all his other labours he was busy directing the cleaning up and restoring of Bag End; but he was often away in the Shire on his forestry work. So he was not at home in early March and did not know that Frodo had been ill. On the thirteenth of that month Farmer Cotton found Frodo lying on his bed; he was clutching a white gem that hung on a chain about his neck and he seemed half in a dream.\n     'It is gone for ever,' he said, 'and now all is dark and empty.'\n     But the fit passed, and when Sam got back on the twenty-fifth, Frodo had recovered, and he said nothing about himself. In the meanwhile Bag End had been set in order, and Merry and Pippin came over from Crickhollow bringing back all the old furniture and gear, so that the old hole soon looked very much as it always had done.\n     When all was at last ready Frodo said: 'When are you going to move in and join me, Sam?'\n     Sam looked a bit awkward.\n     'There is no need to come yet, if you don't want to,' said Frodo. 'But you know the Gaffer is close at hand, and he will be very well looked after by Widow Rumble.'\n     It's not that, Mr. Frodo, said Sam, and he went very red.\n     'Well, what is it?'\n     'It's Rosie, Rose Cotton,' said Sam. 'It seems she didn't like my going abroad at all, poor lass; but as I hadn't spoken, she couldn't say so. And I didn't speak, because I had a job to do first. But now I have spoken, and she says: \"Well, you've wasted a year, so why wait longer?\" \"Wasted?\" I says. \"I wouldn't call it that.\" Still I see what she means. I feel torn in two, as you might say.'\n     'I see,' said Frodo: 'you want to get married, and yet you want to live with me in Bag End too? But my dear Sam, how easy! Get married as soon as you can, and then move in with Rosie. There's room enough in Bag End for as big a family as you could wish for.'\n     And so it was settled. Sam Gamgee married Rose Cotton in the Spring of 1420 (which was also famous for its weddings), and they came and lived at Bag End. And if Sam thought himself lucky, Frodo knew that he was more lucky himself; for there was not a hobbit in the Shire that was looked after with such care. When the labours of repair had all been planned and set going he took to a quiet life, writing a great deal and going through all his notes. He resigned the office of Deputy Mayor at the Free Fair that mid-summer, and dear old Will Whitfoot had another seven years of presiding at Banquets.\n     Merry and Pippin lived together for some time at Crickhollow, and there was much coming and going between Buckland and Bag End. The two young Travellers cut a great dash in the Shire with their songs and their tales and their finery, and their wonderful parties. 'Lordly' folk called them, meaning nothing but good; for it warmed all hearts to see them go riding by with their mail-shirts so bright and their shields so splendid, laughing and singing songs of far away; and if they were now large and magnificent, they were unchanged otherwise, unless they were indeed more fairspoken and more jovial and full of merriment than ever before.\n     Frodo and Sam, however, went back to ordinary attire, except that when there was need they both wore long grey cloaks, finely woven and clasped at the throat with beautiful brooches; and Mr. Frodo wore always a white jewel on a chain that he often would finger.\n     All things now went well, with hope always of becoming still better; and Sam was as busy and as full of delight as even a hobbit could wish. Nothing for him marred that whole year, except for some vague anxiety about his master. Frodo dropped quietly out of all the doings of the Shire, and Sam was pained to notice how little honour he had in his own country. Few people knew or wanted to know about his deeds and adventures; their admiration and respect were given mostly to Mr. Meriadoc and Mr. Peregrin and (if Sam had known it) to himself. Also in the autumn there appeared a shadow of old troubles.\n     One evening Sam came into the study and found his master looking very strange. He was very pale and his eyes seemed to see things far away.\n     'What's the matter, Mr. Frodo?' said Sam.\n     'I am wounded,' he answered, 'wounded; it will never really heal.'\n     But then he got up, and the turn seemed to pass, and he was quite himself the next day. It was not until afterwards that Sam recalled that the date was October the sixth. Two years before on that day it was dark in the dell under Weathertop.\n     Time went on, and 1421 came in. Frodo was ill again in March, but with a great effort he concealed it, for Sam had other things to think about. The first of Sam and Rosie's children was born on the twenty-fifth of March, a date that Sam noted.\n     'Well, Mr. Frodo,' he said. 'I'm in a bit of a fix. Rose and me had settled to call him Frodo, with your leave; but it's not _him_, it's _her_. Though as pretty a maidchild as any one could hope for, taking after Rose more than me, luckily. So we don't know what to do.'\n     'Well, Sam,' said Frodo, 'what's wrong with the old customs? Choose a flower name like Rose. Half the maidchildren in the Shire are called by such names, and what could be better?'\n     'I suppose you're right, Mr. Frodo,' said Sam. 'I've heard some beautiful names on my travels, but I suppose they're a bit too grand for daily wear and tear, as you might say. The Gaffer, he says: \"Make it short, and then you won't have to cut it short before you can use it.\" But if it's to be a flower-name, then I don't trouble about the length: it must be a beautiful flower, because, you see, I think she is very beautiful, and is going to be beautifuller still.'\n     Frodo thought for a moment. 'Well, Sam, what about _elanor_, the sun-star, you remember the little golden flower in the grass of LothlÃ³rien?'\n     'You're right again, Mr. Frodo!' said Sam delighted. 'That's what I wanted.'\n     Little Elanor was nearly six months old, and 1421 had passed to its autumn, when Frodo called Sam into the study.\n     'It will be Bilbo's Birthday on Thursday, Sam,' he said. 'And he will pass the Old Took. He will be a hundred and thirty-one!'\n     'So he will!' said Sam. 'He's a marvel!'\n     'Well, Sam,' said Frodo. 'I want you to see Rose and find out if she can spare you, so that you and I can go off together. You can't go far or for a long time now, of course,' he said a little wistfully.\n     'Well, not very well, Mr. Frodo.'\n     'Of course not. But never mind. You can see me on my way. Tell Rose that you won't be away very long, not more than a fortnight; and you'll come back quite safe.'\n     'I wish I could go all the way with you to Rivendell, Mr. Frodo, and see Mr. Bilbo,' said Sam. 'And yet the only place I really want to be in is here. I am that torn in two.'\n     'Poor Sam! It will feel like that, I am afraid,' said Frodo. 'But you will be healed. You were meant to be solid and whole, and you will be.'\n     In the next day or two Frodo went through his papers and his writings with Sam, and he handed over his keys. There was a big book with plain red leather covers; its tall pages were now almost filled. At the beginning there were many leaves covered with Bilbo's thin wandering hand; but most of it was written in Frodo's firm flowing script. It was divided into chapters but Chapter 80 was unfinished, and after that were some blank leaves. The title page had many titles on it, crossed out one after another, so:\n\n\n     _My Diary. My Unexpected Journey. There and Back Again. And What Happened After._\n\n_Adventures of Five Hobbits. The Tale of the Great Ring, compiled by Bilbo Baggins from his own observations and the accounts of his friends. What we did in the War of the Ring._\n\n\n     Here Bilbo's hand ended and Frodo had written:\n\n            THE DOWNFALL\n\t\tOF THE\n\tLORD OF THE RINGS\n\t\tAND THE\n\tRETURN OF THE KING\n\n(as seen by the Little People; being the memoirs of Bilbo and Frodo of the Shire, supplemented by the accounts of their friends and the learning of the Wise.)\n\n            Together with extracts from Books of Lore translated by Bilbo in Rivendell.\n\n     'Why, you have nearly finished it, Mr. Frodo!' Sam exclaimed. 'Well, you have kept at it, I must say.'\n     'I have quite finished, Sam,' said Frodo. 'The last pages are for you.'\n\n     On September the twenty-first they set out together, Frodo on the pony that had borne him all the way from Minas Tirith, and was now called Strider; and Sam on his beloved Bill. It was a fair golden morning, and Sam did not ask where they were going: he thought he could guess.\n     They took the Stock Road over the hills and went towards the Woody End, and they let their ponies walk at their leisure. They camped in the Green Hills, and on September the twenty-second they rode gently down into the beginning of the trees as afternoon was wearing away.\n     'If that isn't the very tree you hid behind when the Black Rider first showed up, Mr. Frodo!' said Sam pointing to the left. 'It seems like a dream now.'\n\n     It was evening, and the stars were glimmering in the eastern sky as they passed the ruined oak and turned and went on down the hill between the hazel-thickets. Sam was silent, deep in his memories. Presently he became aware that Frodo was singing softly to himself, singing the old walking-song, but the words were not quite the same.\n\n          _Still round the corner there may wait\n            A new road or a secret gate;\n           And though I oft have passed them by,\n            A day will come at last when I\n           Shall take the hidden paths that run\n            West of the Moon, East of the Sun._\n\n     And as if in answer, from down below, coming up the road out of the valley, voices sang:\n\n          _A! Elbereth Gilthoniel!\n           silivren penna mÃ­riel\n           o menel aglar elenath,\n           Gilthoniel, A! Elbereth!\n\n          We still remember, we who dwell\n           In this far land beneath the trees\n           The starlight on the Western Seas._\n\n     Frodo and Sam halted and sat silent in the soft shadows, until they saw a shimmer as the travellers came towards them.\n     There was Gildor and many fair Elven folk; and there to Sam's wonder rode Elrond and Galadriel. Elrond wore a mantle of grey and had a star upon his forehead, and a silver harp was in his hand, and upon his finger was a ring of gold with a great blue stone, Vilya, mightiest of the Three. But Galadriel sat upon a white palfrey and was robed all in glimmering white, like clouds about the Moon; for she herself seemed to shine with a soft light. On her finger was Nenya, the ring wrought of _mithril_, that bore a single white stone flickering like a frosty star. Riding slowly behind on a small grey pony, and seeming to nod in his sleep, was Bilbo himself.\n     Elrond greeted them gravely and graciously, and Galadriel smiled upon them. 'Well, Master Samwise,' she said. 'I hear and see that you have used my gift well. The Shire shall now be more than ever blessed and beloved.' Sam bowed, but found nothing to say. He had forgotten how beautiful the Lady was.\n     Then Bilbo woke up and opened his eyes. 'Hullo, Frodo!' he said. 'Well, I have passed the Old Took today! So that's settled. And now I think I am quite ready to go on another journey. Are you coming?'\n     'Yes, I am coming,' said Frodo. 'The Ring-bearers should go together.'\n     'Where are you going, Master?' cried Sam, though at last he understood what was happening.\n     'To the Havens, Sam,' said Frodo.\n     'And I can't come.'\n     'No, Sam. Not yet anyway, not further than the Havens. Though you too were a Ring-bearer, if only for a little while. Your time may come. Do not be too sad, Sam. You cannot be always torn in two. You will have to be one and whole, for many years. You have so much to enjoy and to be, and to do.'\n     'But,' said Sam, and tears started in his eyes, 'I thought you were going to enjoy the Shire, too. for years and years, after all you have done.'\n     'So I thought too, once. But I have been too deeply hurt, Sam. I tried to save the Shire, and it has been saved, but not for me. It must often be so, Sam, when things are in danger: some one has to give them up, lose them, so that others may keep them. But you are my heir: all that I had and might have had I leave to you. And also you have Rose, and Elanor; and Frodo-lad will come, and Rosie-lass, and Merry, and Goldilocks, and Pippin; and perhaps more that I cannot see. Your hands and your wits will be needed everywhere. You will be the Mayor, of course, as long as you want to be, and the most famous gardener in history; and you will read things out of the Red Book, and keep alive the memory of the age that is gone. so that people will remember the Great Danger and so love their beloved land all the more. And that will keep you as busy and as happy as anyone can be, as long as your part of the Story goes on.\n     'Come now, ride with me!'\n     Then Elrond and Galadriel rode on; for the Third Age was over, and the Days of the Rings were passed, and an end was come of the story and song of those times. With them went many Elves of the High Kindred who would no longer stay in Middle-earth; and among them, filled with a sadness that was yet blessed and without bitterness, rode Sam, and Frodo, and Bilbo, and the Elves delighted to honour them.\n     Though they rode through the midst of the Shire all the evening and all the night, none saw them pass, save the wild creatures; or here and there some wanderer in the dark who saw a swift shimmer under the trees, or a light and shadow flowing through the grass as the Moon went westward. And when they had passed from the Shire, going about the south skirts of the White Downs, they came to the Far Downs, and to the Towers, and looked on the distant Sea; and so they rode down at last to Mithlond, to the Grey Havens in the long firth of Lune.\n     As they came to the gates CÃ­rdan the Shipwright came forth to greet them. Very tall he was, and his beard was long, and he was grey and old, save that his eyes were keen as stars; and he looked at them and bowed, and said: 'All is now ready.'\n     Then CÃ­rdan led them to the Havens, and there was a white ship lying, and upon the quay beside a great grey horse stood a figure robed all in white awaiting them. As he turned and came towards them Frodo saw that Gandalf now wore openly upon his hand the Third Ring, Narya the Great, and the stone upon it was red as fire. Then those who were to go were glad, for they knew that Gandalf also would take ship with them.\n     But Sam was now sorrowful at heart, and it seemed to him that if the parting would be bitter, more grievous still would be the long road home alone. But even as they stood there, and the Elves were going aboard, and all was being made ready to depart, up rode Merry and Pippin in great haste. And amid his tears Pippin laughed.\n     'You tried to give us the slip once before and failed, Frodo.' he said. 'This time you have nearly succeeded, but you have failed again. It was not Sam, though, that gave you away this time, but Gandalf himself!'\n     'Yes,' said Gandalf; 'for it will be better to ride back three together 'than one alone. Well, here at last, dear friends, on the shores of the Sea comes the end of our fellowship in Middle-earth. Go in peace! I will not say: do not weep; for not all tears are an evil.'\n     Then Frodo kissed Merry and Pippin, and last of all Sam, and went aboard; and the sails were drawn up, and the wind blew, and slowly the ship slipped away down the long grey firth; and the light of the glass of Galadriel that Frodo bore glimmered and was lost. And the ship went out into the High Sea and passed on into the West, until at last on a night of rain Frodo smelled a sweet fragrance on the air and heard the sound of singing that came over the water. And then it seemed to him that as in his dream in the house of Bombadil, the grey rain-curtain turned all to silver glass and was rolled back, and he beheld white shores and beyond them a far green country under a swift sunrise.\n     But to Sam the evening deepened to darkness as he stood at the Haven; and as he looked at the grey sea he saw only a shadow on the waters that was soon lost in the West. There still he stood far into the night, hearing only the sigh and murmur of the waves on the shores of Middle-earth, and the sound of them sank deep into his heart. Beside him stood Merry and Pippin, and they were silent.\n     At last the three companions turned away, and never again looking back they rode slowly homewards; and they spoke no word to one another until they came back to the Shire. but each had great comfort in his friends on the long grey road.\n     At last they rode over the downs and took the East Road, and then Merry and Pippin rode on to Buckland; and already they were singing again as they went. But Sam turned to Bywater, and so came back up the Hill, as day was ending once more. And he went on, and there was yellow light, and fire within; and the evening meal was ready, and he was expected. And Rose drew him in, and set him in his chair, and put little Elanor upon his lap.\n     He drew a deep breath. 'Well, I'm back,' he said.\n\n=====================================================\n\n"
     ]
    }
   ],
   "source": [
    "with open('combined_text.txt', 'r') as file:\n",
    "    corpus = file.read()\n",
    "    print(corpus)\n",
    "full_text = corpus.splitlines()\n",
    "train_doc = []\n",
    "val_doc = []"
   ]
  },
  {
   "cell_type": "code",
   "execution_count": 86,
   "metadata": {},
   "outputs": [],
   "source": [
    "count = 0\n",
    "for cnt, line in enumerate(full_text):\n",
    "        if cnt <= len(full_text)*0.90:\n",
    "            train_doc.append(line)\n",
    "        else:\n",
    "            val_doc.append(line)"
   ]
  },
  {
   "cell_type": "code",
   "execution_count": 87,
   "metadata": {},
   "outputs": [
    {
     "output_type": "execute_result",
     "data": {
      "text/plain": [
       "9159"
      ]
     },
     "metadata": {},
     "execution_count": 87
    }
   ],
   "source": [
    "len(train_doc)"
   ]
  },
  {
   "cell_type": "code",
   "execution_count": 88,
   "metadata": {},
   "outputs": [
    {
     "output_type": "stream",
     "name": "stdout",
     "text": [
      "9159\n"
     ]
    }
   ],
   "source": [
    "## Write to file\n",
    "f = open('train_lotr.txt', \"w+\")\n",
    "count = 0\n",
    "for line in train_doc:\n",
    "    count=count+1\n",
    "    f.write(str(line))\n",
    "    f.write(\"\\n\")\n",
    "    \n",
    "f.close()\n",
    "print(count)"
   ]
  },
  {
   "cell_type": "code",
   "execution_count": 89,
   "metadata": {},
   "outputs": [
    {
     "output_type": "stream",
     "name": "stdout",
     "text": [
      "1017\n"
     ]
    }
   ],
   "source": [
    "## Write to file\n",
    "f = open('val_lotr.txt', \"w+\")\n",
    "count = 0\n",
    "for line in val_doc:\n",
    "    count=count+1\n",
    "    f.write(str(line))\n",
    "    f.write(\"\\n\")\n",
    "    \n",
    "f.close()\n",
    "print(count)"
   ]
  },
  {
   "cell_type": "code",
   "execution_count": 90,
   "metadata": {},
   "outputs": [
    {
     "output_type": "execute_result",
     "data": {
      "text/plain": [
       " Shire, had crossed the river, which was the original boundary of the land eastwards. He built (and excavated) Brandy Hall, changed his name to Brandybuck, and settled down to become master of what was virtually a small independent country. His family grew and grew, and after his days continued to grow, until Brandy Hall occupied the whole of the low hill, and had three large front-doors, many side-doors, and about a hundred windows. The Brandybucks and their numerous dependants then began to burrow, and later to build, all round about. That was the origin of Buckland, a thickly inhabited strip between the river and the Old Forest, a sort of colony from the Shire. Its chief village was Bucklebury, clustering in the banks and slopes behind Brandy Hall.',\n",
       " '     The people in the Marish were friendly with the Bucklanders, and the authority of the Master of the Hall (as the head of the Brandybuck family was called) was still acknowledged by the farmers between Stock and Rushey. But most of the folk of the old Shire regarded the Bucklanders as peculiar, half foreigners as it were. Though, as a matter of fact, they were not very different from the other hobbits of the Four Farthings. Except in one point: they were fond of boats, and some of them could swim.',\n",
       " '     Their land was originally unprotected from the East; but on that side they had built a hedge: the High Hay. It had been planted many generations ago, and was now thick and tail, for it was constantly tended. It ran all the way from Brandywine Bridge, in a big loop curving away from the river, to Haysend (where the Withywindle flowed out of the Forest into the Brandywine): well over twenty miles from end to end. But, of course, it was not a complete protection. The Forest drew close to the hedge in many places. The Bucklanders kept their doors locked after dark, and that also was not usual in the Shire.',\n",
       " '     The ferry-boat moved slowly across the water. The Buckland shore drew nearer. Sam was the only member of the party who had not been over the river before. He had a strange feeling as the slow gurgling stream slipped by: his old life lay behind in the mists, dark adventure lay in front. He scratched his head, and for a moment had a passing wish that Mr. Frodo could have gone on living quietly at Bag End.',\n",
       " '     The four hobbits stepped off the ferry. Merry was tying it up, and Pippin was already leading the pony up the path, when Sam (who had been looking back, as if to take farewell of the Shire) said in a hoarse whisper:',\n",
       " \"     'Look back, Mr. Frodo! Do you see anything?'\",\n",
       " '     On the far stage, under the distant lamps, they could just make out a figure: it looked like a dark black bundle left behind. But as they looked it seemed to move and sway this way and that, as if searching the ground. It then crawled, or went crouching, back into the gloom beyond the lamps.',\n",
       " \"     'What in the Shire is that?' exclaimed Merry.\",\n",
       " \"     'Something that is following us,' said Frodo. 'But don't ask any more now! Let's get away at once!' They hurried up the path to the top of the bank, but when they looked back the far shore was shrouded in mist, and nothing could be seen.\",\n",
       " \"     'Thank goodness you don't keep any boats on the west-bank!' said Frodo. 'Can horses cross the river?'\",\n",
       " \"     'They can go twenty miles north to Brandywine Bridge â€“ or they might swim,' answered Merry. 'Though I never heard of any horse swimming the Brandywine. But what have horses to do with it?' I'll tell you later. Let's get indoors and then we can talk.'\",\n",
       " \"     'All right! You and Pippin know your way; so I'll just ride on and tell Fatty Bolger that you are coming. We'll see about supper and things.'\",\n",
       " \"     'We had our supper early with Farmer Maggot,' said Frodo; 'but we could do with another.'\",\n",
       " \"     'You shall have it! Give me that basket!' said Merry, and rode ahead into the darkness.\",\n",
       " \"     It was some distance from the Brandywine to Frodo's new house at Crickhollow. They passed Buck Hill and Brandy Hall on their left, and on the outskirts of Bucklebury struck the main road of Buckland that ran south from the Bridge. Half a mile northward along this they came to a lane opening on their right. This they followed for a couple of miles as it climbed up and down into the country.\",\n",
       " '     At last they came to a narrow gate in a thick hedge. Nothing could be seen of the house in the dark: it stood back from the lane in the middle of a wide circle of lawn surrounded by a belt of low trees inside the outer hedge. Frodo had chosen it, because it stood in an out-of-the-way corner of the country, and there were no other dwellings close by. You could get in and out without being noticed. It had been built a long while before by the Brandybucks, for the use of guests, or members of the family that wished to escape from the crowded life of Brandy Hall for a time. It was an old-fashioned countrified house, as much like a hobbit-hole as possible: it was long and low, with no upper storey; and it had a roof of turf, round windows, and a large round door.',\n",
       " '     As they walked lip the green path from the gate no light was visible; the windows were dark and shuttered. Frodo knocked on the door, and Fatty Bolger opened it. A friendly light streamed out. They slipped in quickly and shut themselves and the light inside. They were in a wide hall with doors on either side; in front of them a passage ran back down the middle of the house.',\n",
       " \"     'Well, what do you think of it?' asked Merry coming up the passage. 'We have done our best in a short time to make it look like home. After all Fatty and I only got here with the last cart-load yesterday.'\",\n",
       " \"     Frodo looked round. It did look like home. Many of his own favourite things â€“ or Bilbo's things (they reminded him sharply of him in their new selling) â€“ were arranged as nearly as possible as they had been at Bag End. It was a pleasant, comfortable, welcoming place; and he found himself wishing that he was really coming here to settle down in quiet retirement. It seemed unfair to have put his friends to all this trouble; and he wondered again how he was going to break the news to them that he must leave them so soon, indeed at once. Yet that would have to be done that very night, before they all went to bed.\",\n",
       " \"     'It's delightful!' he said with an effort. 'I hardly feel that I have moved at all.'\",\n",
       " '     The travellers hung up their cloaks, and piled their packs on the floor. Merry led them down the passage and threw open a door at the far end. Firelight came out, and a puff of steam.',\n",
       " \"     'A bath!' cried Pippin. 'O blessed Meriadoc!'\",\n",
       " \"     'Which order shall we go in?' said Frodo. 'Eldest first, or quickest first? You'll be last either way, Master Peregrin.'\",\n",
       " \"     'Trust me to arrange things better than that!' said Merry. 'We can't begin life at Crickhollow with a quarrel over baths. In that room there are _three_ tubs, and a copper full of boiling water. There are also towels, mats and soap. Get inside, and be quick!'\",\n",
       " \"     Merry and Fatty went into the kitchen on the other side of the passage, and busied themselves with the final preparations for a late supper. Snatches of competing songs came from the bathroom mixed with the sound of splashing and wallowing. The voice of Pippin was suddenly lifted up above the others in one of Bilbo's favourite bath-songs.\",\n",
       " '',\n",
       " '          Sing hey! for the bath at close of day',\n",
       " '           that washes the weary mud away!',\n",
       " '           A loon is he that will not sing:',\n",
       " '           O! Water Hot is a noble thing!',\n",
       " '',\n",
       " '           O! Sweet is the sound of falling rain,',\n",
       " '           and the brook that leaps from hill to plain;',\n",
       " '           but better than rain or rippling streams',\n",
       " '           is Water Hot that smokes and steams.',\n",
       " '',\n",
       " '           O! Water cold we may pour at need',\n",
       " '           down a thirsty throat and be glad indeed;',\n",
       " '           but better is Beer, if drink we lack,',\n",
       " '           and Water Hot poured down the back.',\n",
       " '',\n",
       " '           O! Water is fair that leaps on high',\n",
       " '           in a fountain white beneath the sky;',\n",
       " '           but never did fountain sound so sweet',\n",
       " '           as splashing Hot Water with my feet!',\n",
       " '',\n",
       " '',\n",
       " \"     There was a terrific splash, and a shout of _Whoa!_ from Frodo. It appeared that a lot of Pippin's bath had imitated a fountain and leaped on high.\",\n",
       " \"     Merry went to the door: 'What about supper and beer in the throat?' he called. Frodo came out drying his hair.\",\n",
       " \"     'There's so much water in the air that I'm coming into the kitchen to finish,' he said.\",\n",
       " \"     'Lawks!' said Merry, looking in. The stone floor was swimming. 'You ought to mop all that up before you get anything to eat. Peregrin,' he said. 'Hurry up, or we shan't wait for you.'\",\n",
       " \"     They had supper in the kitchen on a table near the fire. 'I suppose you three won't want mushrooms again?' said Fredegar without much hope.\",\n",
       " \"     'Yes we shall!' cried Pippin.\",\n",
       " \"     'They're mine!' said Frodo. 'Given to _me_ by Mrs. Maggot, a queen among farmers' wives. Take your greedy hands away, and I'll serve them.'\",\n",
       " \"     Hobbits have a passion for mushrooms, surpassing even the greediest likings of Big People. A fact which partly explains young Frodo's long expeditions to the renowned fields of the Marish, and the wrath of the injured Maggot. On this occasion there was plenty for all, even according to hobbit standards. There were also many other things to follow, and when they had finished even Fatty Bolger heaved a sigh of content. They pushed back the table, and drew chairs round the fire.\",\n",
       " \"     'We'll clear up later,' said Merry. 'Now tell me all about it! I guess that you have been having adventures, which was not quite fair without me. I want a full account; and most of all I want to know what was the matter with old Maggot, and why he spoke to me like that. He sounded almost as if he was _scared,_ if that is possible.'\",\n",
       " \"     'We have all been scared,' said Pippin after a pause, in which Frodo stared at the fire and did not speak. 'You would have been, too, if you had been chased for two days by Black Riders.'\",\n",
       " \"     'And what are they?'\",\n",
       " \"     'Black figures riding on black horses,' answered Pippin. 'If Frodo won't talk, I will tell you the whole tale from the beginning.' He then gave a full account of their journey from the time when they left Hobbiton. Sam gave various supporting nods and exclamations. Frodo remained silent.\",\n",
       " \"     'I should think you were making it all up,' said Merry, 'if I had not seen that black shape on the landing-stage â€“ and heard the queer sound in Maggot's voice. What do you make of it all, Frodo?'\",\n",
       " \"     'Cousin Frodo has been very close,' said Pippin. 'But the time has come for him to open out. So far we have been given nothing more to go on than Farmer Maggot's guess that it has something to do with old Bilbo's treasure.'\",\n",
       " \"     'That was only a guess,' said Frodo hastily. 'Maggot does not _know_anything.'\",\n",
       " \"     'Old Maggot is a shrewd fellow,' said Merry. 'A lot goes on behind his round face that does not come out in his talk. I've heard that he used to go into the Old Forest at one time, and he has the reputation of knowing a good many strange things. But you can at least tell us, Frodo, whether you think his guess good or bad.'\",\n",
       " \"     'I _think,'_ answered Frodo slowly, 'that it was a good guess, as far as it goes. There _is a_ connexion with Bilbo's old adventures, and the Riders are looking, or perhaps one ought to say _searching,_ for him or for me. I also fear, if you want to know, that it is no joke at all; and that I am not safe here or anywhere else.' He looked round at the windows and walls, as if he was afraid they would suddenly give way. The others looked at him in silence, and exchanged meaning glances among themselves.\",\n",
       " \"     'It's coming out in a minute,' whispered Pippin to Merry. Merry nodded.\",\n",
       " \"     'Well!' said Frodo at last, sitting up and straightening his back, as if he had made a decision. 'I can't keep it dark any longer. I have got something to tell you all. But I don't know quite how to begin.'\",\n",
       " \"     'I think I could help you,' said Merry quietly, 'by telling you some of it myself.'\",\n",
       " \"     'What do you mean?' said Frodo, looking at him anxiously. 'Just this, my dear old Frodo: you are miserable, because you don't know how to say good-bye. You meant to leave the Shire, of course. But danger has come on you sooner than you expected, and now you are making up your mind to go at once. And you don't want to. We are very sorry for you.'\",\n",
       " '     Frodo opened his mouth and shut it again. His look of surprise was so comical that they laughed. \\'Dear old Frodo!\\' said Pippin. \\'Did you really think you had thrown dust in all our eyes? You have not been nearly careful or clever enough for that! You have obviously been planning to go and saying farewell to all your haunts all this year since April. We have constantly heard you muttering: \"Shall I ever look down into that valley again, I wonder\", and things like that. And pretending that you had come to the end of your money, and actually selling your beloved Bag End to those Sackville-Bagginses! And all those close talks with Gandalf.\\'',\n",
       " \"     'Good heavens!' said Frodo. 'I thought I had been both careful and clever. I don't know what Gandalf would say. Is all the Shire discussing my departure then?'\",\n",
       " \"     'Oh no!' said Merry. 'Don't worry about that! The secret won't keep for long, of course; but at present it is, I think, only known to us conspirators. After all, you must remember that we know you well, and are often with you. We can usually guess what you are thinking. I knew Bilbo, too. To tell you the truth, I had been watching you rather closely ever since he left. I thought you would go after him sooner or later; indeed I expected you to go sooner, and lately we have been very anxious. We have been terrified that you might give us the slip, and go off suddenly, all on your own like he did. Ever since this spring we have kept our eyes open, and done a good deal of planning on our own account. You are not going to escape so easily!'\",\n",
       " \"     'But I must go,' said Frodo. 'It cannot be helped, dear friends. It is wretched for us all, but it is no use your trying to keep me. Since you have guessed so much, please help me and do not hinder me!'\",\n",
       " \"     'You do not understand!' said Pippin. 'You must go â€“ and therefore we must, too. Merry and I are coming with you. Sam is an excellent fellow, and would jump down a dragon's throat to save you, if he did not trip over his own feet; but you will need more than one companion in your dangerous adventure.'\",\n",
       " \"     'My dear and most beloved hobbits!' said Frodo deeply moved. 'But I could not allow it. I decided that long ago, too. You speak of danger, but you do not understand. This is no treasure-hunt, no there-and-back journey. I am flying from deadly peril into deadly peril.'\",\n",
       " \"     'Of course we understand,' said Merry firmly. 'That is why we have decided to come. We know the Ring is no laughing-matter; but we are going to do our best to help you against the Enemy.'\",\n",
       " \"     'The Ring!' said Frodo, now completely amazed.\",\n",
       " \"     'Yes, the Ring,' said Merry. 'My dear old hobbit, you don't allow for the inquisitiveness of friends. I have known about the existence of the Ring for years â€“ before Bilbo went away, in fact; but since he obviously regarded it as secret, I kept the knowledge in my head, until we formed our conspiracy. I did not know Bilbo, of course, as well as I know you; I was too young, and he was also more careful â€“ but he was not careful enough. If you want to know how I first found out, I will tell you.'\",\n",
       " \"     'Go on!' said Frodo faintly.\",\n",
       " \"     'It was the Sackville-Bagginses that were his downfall, as you might expect. One day, a year before the Party, I happened to be walking along the road, when I saw Bilbo ahead. Suddenly in the distance the S.-B.s appeared, coming towards us. Bilbo slowed down, and then hey presto! he vanished. I was so startled that I hardly had the wits to hide myself in a more ordinary fashion; but I got through the hedge and walked along the field inside. I was peeping through into the road, after the S.-B.s had passed, and was looking straight at Bilbo when he suddenly reappeared. I caught a glint of gold as he put something back in his trouser-pocket.\",\n",
       " \"     'After that I kept my eyes open. In fact, I confess that I spied. But you must admit that it was very intriguing, and I was only in my teens. I must be the only one in the Shire, besides you Frodo, that has ever seen the old fellow's secret book.'\",\n",
       " \"     'You have read his book!' cried Frodo. 'Good heavens above! Is nothing safe?'\",\n",
       " \"     'Not too safe, I should say,' said Merry. 'But I have only had one rapid glance, and that was difficult to get. He never left the book about. I wonder what became of it. I should like another look. Have you got it, Frodo?'\",\n",
       " \"     'No. It was not at Bag End. He must have taken it away.'\",\n",
       " \"     'Well, as I was saying,' Merry proceeded, 'I kept my knowledge to myself, till this Spring when things got serious. Then we formed our conspiracy; and as we were serious, too, and meant business, we have not been too scrupulous. You are not a very easy nut to crack, and Gandalf is worse. But if you want to be introduced to our chief investigator, I can produce him.'\",\n",
       " \"     'Where is he?' said Frodo, looking round, as if he expected a masked and sinister figure to come out of a cupboard.\",\n",
       " \"     'Step forward, Sam!' said Merry; and Sam stood up with a face scarlet up to the ears. 'Here's our collector of information! And he collected a lot, I can tell you, before he was finally caught. After which, I may say, he seemed to regard himself as on parole, and dried up.'\",\n",
       " \"     'Sam!' cried Frodo, feeling that amazement could go no further, and quite unable to decide whether he felt angry, amused, relieved, or merely foolish.\",\n",
       " \"     'Yes, sir!' said Sam. 'Begging your pardon, sir! But I meant no wrong to you, Mr. Frodo, nor to Mr. Gandalf for that matter. _He_ has some sense, mind you; and when you said _go alone,_ he said _no! lake someone as you can trust.'_\",\n",
       " \"     'But it does not seem that I can trust anyone,' said Frodo. Sam looked at him unhappily. 'It all depends on what you want,' put in Merry. 'You can trust us to stick to you through thick and thin â€“ to the bitter end. And you can trust us to keep any secret of yours â€“ closer than you keep it yourself. But you cannot trust us to let you face trouble alone, and go off without a word. We are your friends, Frodo. Anyway: there it is. We know most of what Gandalf has told you. We know a good deal about the Ring. We are horribly afraid â€“ but we are coming with you; or following you like hounds.'\",\n",
       " \"     'And after all, sir,' added Sam, 'you did ought to take the Elves' advice. Gildor said you should take them as was willing, and you can't deny it.'\",\n",
       " \"     'I don't deny it,' said Frodo, looking at Sam, who was now grinning. 'I don't deny it, but I'll never believe you are sleeping again, whether you snore or not. I shall kick you hard to make sure.\",\n",
       " \"     'You are a set of deceitful scoundrels!' he said, turning to the others. 'But bless you!' he laughed, getting up and waving his arms, 'I give in. I will take Gildor's advice. If the danger were not so dark, I should dance for joy. Even so, I cannot help feeling happy; happier than I have felt for a long time. I had dreaded this evening.'\",\n",
       " \"     'Good! That's settled. Three cheers for Captain Frodo and company!' they shouted; and they danced round him. Merry and Pippin began a song, which they had apparently got ready for the occasion.\",\n",
       " '     It was made on the model of the dwarf-song that started Bilbo on his adventure long ago, and went to the same tune:',\n",
       " '',\n",
       " ...]"
      ]
     },
     "metadata": {},
     "execution_count": 90
    }
   ],
   "source": [
    "full_text"
   ]
  },
  {
   "cell_type": "code",
   "execution_count": null,
   "metadata": {},
   "outputs": [],
   "source": []
  }
 ]
}