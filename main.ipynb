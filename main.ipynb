{
 "metadata": {
  "language_info": {
   "codemirror_mode": {
    "name": "ipython",
    "version": 3
   },
   "file_extension": ".py",
   "mimetype": "text/x-python",
   "name": "python",
   "nbconvert_exporter": "python",
   "pygments_lexer": "ipython3",
   "version": "3.9.5"
  },
  "orig_nbformat": 2,
  "kernelspec": {
   "name": "python395jvsc74a57bd03927a1b4b526797d33bd517bb3d316840a4cc70fe7bbb0583c4c4c72206409f6",
   "display_name": "Python 3.9.5 64-bit ('LOTR': conda)"
  }
 },
 "nbformat": 4,
 "nbformat_minor": 2,
 "cells": [
  {
   "source": [
    "# Lord of the Rings - Deep Learning\n",
    "## Introduction\n",
    "I find deep learning so interesting and I wanted to give it a go with one of my favourite book series. \n",
    "\n",
    "This task was to generate new text that could theoretically have been in any of the Lord of the Rings novels. "
   ],
   "cell_type": "markdown",
   "metadata": {}
  },
  {
   "source": [
    "## Observations and outcomes\n",
    "You can view my testing of the model in the jupyter notebook 'testing.ipynb'. The model seemed to be able to group characters that do appear commonly together well. Scenes with Legolas often contained Aragorn and Gimli, and scenes with Frodo often contained Sam and Gandalf. There was a clear acknowledgement of Sauron and Saruman being the villains throughout the story, unless they were involved in the prompt and then it was a little bit harder -- Including one paragraph where Sauron is escorting Frodo! \n",
    "\n",
    "I started with a small prompt, and used the following settings. \n",
    "Temperature - 1 \n",
    "Top_P = 0.9\n",
    "length = 500\n",
    "### Test One\n",
    "Input\n",
    "> Aragon looked at the cloaked figure.\n",
    "\n",
    "Generated text\n",
    "<blockquote>  He was no longer cloaked but in a brown woolen cloak; and the edge of his sword hung with the Elven-cloak above the belt.\n",
    "     'Away now!' cried Aragorn. 'Up into the glade! Follow me! It will be glad to hear the rumour that Boromir perished there.'\n",
    "     They found in the hollow beneath Amon Hen that was where Boromir had fallen; but the elf-cloak that he wore had been broken, and lay lost in the dell. When at last they had passed the dell they found that he had been clothed again, and carried. A garment of mail was embroidered upon the garment and wrapped in grey cloths, and was driven into the folds about the waist. Above his tunic he bore a helm, a quiver of elven-string; and beneath it was a robe of fair cloth of fine linen, the hue of which had been chosen by him, but it was in the gold of Rivendell that it was wrought. To his left he wore a mail shirt of green and white, and beneath it he was clad in a grey shirt of mail and with green shields. From his belt a spear was he wore a silver rapier. Aragorn leaped to his feet.\n",
    "     'Away!' he cried. 'This is the spear of Boromir, son of Arathorn! </blockquote>\n",
    "\n",
    "You can see that the text does read like it could be in Tolkien's work, but there are some definite mistakes to the human eye. Boromir being the son of Arathorn is a large one, or that he was no longer cloaked but in a cloak. Interestingly though, throughout the text Boromir does remain dead which I think is good, although possibly because he is dead for 2/3rds of the text. \n",
    "\n",
    "From there I decided to mess with the temperature and P values to see how much to iron out. \n",
    "\n",
    "When temperature and or p reached < 0.6, the repitition in the text was very high. \n",
    "\n"
   ],
   "cell_type": "markdown",
   "metadata": {}
  }
 ]
}